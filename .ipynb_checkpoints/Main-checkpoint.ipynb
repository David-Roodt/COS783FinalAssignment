{
 "cells": [
  {
   "cell_type": "code",
   "execution_count": 49,
   "id": "1ed39add",
   "metadata": {},
   "outputs": [],
   "source": [
    "#converts input image to ela applied image\n",
    "from PIL import Image, ImageChops, ImageEnhance\n",
    "\n",
    "\n",
    "def convert_to_ela_image(filename,quality):\n",
    "\n",
    "    Original_Image = Image.open(filename).convert('RGB')\n",
    "\n",
    "    Compressed_Image_filename = 'resaved_image.jpg'\n",
    "    Original_Image.save(Compressed_Image_filename,'JPEG',quality=quality)\n",
    "    Compressed_Image = Image.open(Compressed_Image_filename)\n",
    "\n",
    "    ELA_Image = ImageChops.difference(Original_Image,Compressed_Image)\n",
    "    \n",
    "    #scaling factors are calculated from pixel extremas\n",
    "    extrema = ELA_Image.getextrema()\n",
    "    max_difference = max([pix[1] for pix in extrema])\n",
    "    if max_difference ==0:\n",
    "        max_difference = 1\n",
    "    scale = 350.0 / max_difference\n",
    "    \n",
    "    ELA_Image = ImageEnhance.Brightness(ELA_Image).enhance(scale)\n",
    "\n",
    "    ELA_Image.save(\"ela_image.png\")\n",
    "    return ELA_Image"
   ]
  },
  {
   "cell_type": "code",
   "execution_count": 52,
   "id": "062e1a27",
   "metadata": {},
   "outputs": [],
   "source": [
    "from os import listdir\n",
    "from os.path import isfile\n",
    "\n",
    "import numpy as np\n",
    "\n",
    "def PreProcess(image_path):\n",
    "    return np.array(convert_to_ela_image(image_path, 90).resize((128, 128))).flatten() / 255.0\n",
    "\n",
    "def getDataSet(DataSetType):\n",
    "    X = [] # Images\n",
    "    Y = [] # false = fake, true = real\n",
    "\n",
    "    if(DataSetType == 0):\n",
    "        TestOrTrain = 'train'\n",
    "    else:\n",
    "        TestOrTrain = 'test'\n",
    "\n",
    "    path = TestOrTrain+'/REAL'\n",
    "    print(path);\n",
    "\n",
    "    allFiles = []\n",
    "    for f in listdir(path):\n",
    "        if(isfile(path + '/'+ f)):\n",
    "            allFiles.append(path + '/'+ f);\n",
    "    \n",
    "    for file in allFiles:\n",
    "        if file.endswith('jpg') or file.endswith('png'):\n",
    "            X.append(PreProcess(file))        \n",
    "            Y.append(True)     # label for authentic images \n",
    "            \n",
    "    print(f'Total images: {len(X)}\\nTotal labels: {len(Y)}')\n",
    "\n",
    "\n",
    "    path = TestOrTrain+'/FAKE'\n",
    "    print(path);\n",
    "\n",
    "    allFiles = []\n",
    "    for f in listdir(path):\n",
    "        if(isfile(path + '/'+ f)):\n",
    "            allFiles.append(path + '/'+ f);\n",
    "    \n",
    "    for file in allFiles:\n",
    "        if file.endswith('jpg') or file.endswith('png'):\n",
    "            X.append(PreProcess(file))        \n",
    "            Y.append(False)     # label for authentic images \n",
    "            \n",
    "    print(f'Total images: {len(X)}\\nTotal labels: {len(Y)}')\n",
    "\n",
    "    X = np.array(X)\n",
    "    Y = Y.astype(np.bool_)\n",
    "    Y = np.packbits(Y, axis=-1)\n",
    "    X = X.reshape(-1, 128, 128, 3)\n",
    "\n",
    "    return X, Y"
   ]
  },
  {
   "cell_type": "code",
   "execution_count": 53,
   "id": "ce427ce9",
   "metadata": {},
   "outputs": [
    {
     "ename": "NameError",
     "evalue": "name 'original_array' is not defined",
     "output_type": "error",
     "traceback": [
      "\u001b[1;31m---------------------------------------------------------------------------\u001b[0m",
      "\u001b[1;31mNameError\u001b[0m                                 Traceback (most recent call last)",
      "\u001b[1;32m<ipython-input-53-73f7f12b0235>\u001b[0m in \u001b[0;36m<module>\u001b[1;34m\u001b[0m\n\u001b[1;32m----> 1\u001b[1;33m \u001b[0mtest_X\u001b[0m\u001b[1;33m,\u001b[0m \u001b[0mtest_Y\u001b[0m \u001b[1;33m=\u001b[0m \u001b[0mgetDataSet\u001b[0m\u001b[1;33m(\u001b[0m\u001b[1;36m1\u001b[0m\u001b[1;33m)\u001b[0m\u001b[1;33m;\u001b[0m\u001b[1;33m\u001b[0m\u001b[1;33m\u001b[0m\u001b[0m\n\u001b[0m",
      "\u001b[1;32m<ipython-input-52-8a3813393c69>\u001b[0m in \u001b[0;36mgetDataSet\u001b[1;34m(DataSetType)\u001b[0m\n\u001b[0;32m      9\u001b[0m \u001b[1;32mdef\u001b[0m \u001b[0mgetDataSet\u001b[0m\u001b[1;33m(\u001b[0m\u001b[0mDataSetType\u001b[0m\u001b[1;33m)\u001b[0m\u001b[1;33m:\u001b[0m\u001b[1;33m\u001b[0m\u001b[1;33m\u001b[0m\u001b[0m\n\u001b[0;32m     10\u001b[0m     \u001b[0mX\u001b[0m \u001b[1;33m=\u001b[0m \u001b[1;33m[\u001b[0m\u001b[1;33m]\u001b[0m \u001b[1;31m# Images\u001b[0m\u001b[1;33m\u001b[0m\u001b[1;33m\u001b[0m\u001b[0m\n\u001b[1;32m---> 11\u001b[1;33m     \u001b[0mY\u001b[0m \u001b[1;33m=\u001b[0m \u001b[0moriginal_array\u001b[0m\u001b[1;33m.\u001b[0m\u001b[0mastype\u001b[0m\u001b[1;33m(\u001b[0m\u001b[0mnp\u001b[0m\u001b[1;33m.\u001b[0m\u001b[0mbool_\u001b[0m\u001b[1;33m)\u001b[0m \u001b[1;31m# false = fake, true = real\u001b[0m\u001b[1;33m\u001b[0m\u001b[1;33m\u001b[0m\u001b[0m\n\u001b[0m\u001b[0;32m     12\u001b[0m \u001b[1;33m\u001b[0m\u001b[0m\n\u001b[0;32m     13\u001b[0m     \u001b[1;32mif\u001b[0m\u001b[1;33m(\u001b[0m\u001b[0mDataSetType\u001b[0m \u001b[1;33m==\u001b[0m \u001b[1;36m0\u001b[0m\u001b[1;33m)\u001b[0m\u001b[1;33m:\u001b[0m\u001b[1;33m\u001b[0m\u001b[1;33m\u001b[0m\u001b[0m\n",
      "\u001b[1;31mNameError\u001b[0m: name 'original_array' is not defined"
     ]
    }
   ],
   "source": [
    "test_X, test_Y = getDataSet(1);\n"
   ]
  },
  {
   "cell_type": "code",
   "execution_count": null,
   "id": "38b74a11",
   "metadata": {},
   "outputs": [],
   "source": []
  }
 ],
 "metadata": {
  "kernelspec": {
   "display_name": "Python 3",
   "language": "python",
   "name": "python3"
  },
  "language_info": {
   "codemirror_mode": {
    "name": "ipython",
    "version": 3
   },
   "file_extension": ".py",
   "mimetype": "text/x-python",
   "name": "python",
   "nbconvert_exporter": "python",
   "pygments_lexer": "ipython3",
   "version": "3.8.8"
  }
 },
 "nbformat": 4,
 "nbformat_minor": 5
}
