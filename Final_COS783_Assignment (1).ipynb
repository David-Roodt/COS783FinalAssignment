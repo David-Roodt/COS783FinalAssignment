{
 "cells": [
  {
   "cell_type": "code",
   "execution_count": 2,
   "id": "3d17e654-6ac8-4d60-a7c7-239a5db810a2",
   "metadata": {},
   "outputs": [],
   "source": [
    "#converts input image to ela applied image\n",
    "from PIL import Image, ImageChops, ImageEnhance\n",
    "\n",
    "\n",
    "def convert_to_ela_image(filename,quality):\n",
    "\n",
    "    Original_Image = Image.open(filename).convert('RGB')\n",
    "\n",
    "    Compressed_Image_filename = 'resaved_image.jpg'\n",
    "    Original_Image.save(Compressed_Image_filename,'JPEG',quality=quality)\n",
    "    Compressed_Image = Image.open(Compressed_Image_filename)\n",
    "\n",
    "    ELA_Image = ImageChops.difference(Original_Image,Compressed_Image)\n",
    "    \n",
    "    #scaling factors are calculated from pixel extremas\n",
    "    extrema = ELA_Image.getextrema()\n",
    "    max_difference = max([pix[1] for pix in extrema])\n",
    "    if max_difference ==0:\n",
    "        max_difference = 1\n",
    "    scale = 350.0 / max_difference\n",
    "    \n",
    "    ELA_Image = ImageEnhance.Brightness(ELA_Image).enhance(scale)\n",
    "\n",
    "    ELA_Image.save(\"ela_image.png\")\n",
    "    return ELA_Image"
   ]
  },
  {
   "cell_type": "code",
   "execution_count": 3,
   "id": "f2cd1f68-873e-4af8-b201-f76e34147c24",
   "metadata": {},
   "outputs": [],
   "source": [
    "from os import listdir\n",
    "from os.path import isfile\n",
    "\n",
    "import numpy as np\n",
    "\n",
    "def PreProcess(image_path):\n",
    "    return np.array(convert_to_ela_image(image_path, 90).resize((128, 128))).flatten() / 255.0\n",
    "\n",
    "def getDataSet(DataSetType):\n",
    "    X = [] # Images\n",
    "    Y = [] # 0 = fake, 1 = real\n",
    "\n",
    "    if(DataSetType == 0):\n",
    "        TestOrTrain = 'archive/train'\n",
    "    else:\n",
    "        TestOrTrain = 'archive/test'\n",
    "\n",
    "    path = TestOrTrain+'/REAL'\n",
    "    print(path);\n",
    "\n",
    "    allFiles = []\n",
    "    for f in listdir(path):\n",
    "        if(isfile(path + '/'+ f)):\n",
    "            allFiles.append(path + '/'+ f);\n",
    "    \n",
    "    for file in allFiles:\n",
    "        if file.endswith('jpg') or file.endswith('png'):\n",
    "            X.append(PreProcess(file))        \n",
    "            Y.append(1)     # label for authentic images \n",
    "            \n",
    "    print(f'Total images: {len(X)}\\nTotal labels: {len(Y)}')\n",
    "\n",
    "\n",
    "    path = TestOrTrain+'/FAKE'\n",
    "    print(path);\n",
    "\n",
    "    allFiles = []\n",
    "    for f in listdir(path):\n",
    "        if(isfile(path + '/'+ f)):\n",
    "            allFiles.append(path + '/'+ f);\n",
    "    \n",
    "    for file in allFiles:\n",
    "        if file.endswith('jpg') or file.endswith('png'):\n",
    "            X.append(PreProcess(file))        \n",
    "            Y.append(0)     # label for authentic images \n",
    "            \n",
    "    print(f'Total images: {len(X)}\\nTotal labels: {len(Y)}')\n",
    "\n",
    "    X = np.array(X)\n",
    "    Y = np.array(Y)\n",
    "    X = X.reshape(-1, 128, 128, 3)\n",
    "\n",
    "    return X, Y"
   ]
  },
  {
   "cell_type": "code",
   "execution_count": 1,
   "id": "bcd8911f",
   "metadata": {
    "colab": {
     "base_uri": "https://localhost:8080/"
    },
    "id": "bcd8911f",
    "outputId": "f0b3c621-1bd9-42f2-f88b-4f0158e0cbd1"
   },
   "outputs": [
    {
     "name": "stdout",
     "output_type": "stream",
     "text": [
      "2.10.0\n"
     ]
    }
   ],
   "source": [
    "\n",
    "import tensorflow as tf\n",
    "\n",
    "# Display the version\n",
    "print(tf.__version__)\n",
    "\n",
    "# other imports\n",
    "import numpy as np\n",
    "import matplotlib.pyplot as plt\n",
    "from tensorflow.keras.layers import Input,Activation,Conv2D, Conv2DTranspose, Dense, Flatten, Dropout\n",
    "from tensorflow.keras.layers import GlobalMaxPooling2D, MaxPooling2D, GlobalAveragePooling2D\n",
    "from tensorflow.keras.layers import BatchNormalization\n",
    "from tensorflow.keras.models import Model, Sequential\n",
    "from tensorflow.keras.preprocessing.image import load_img\n",
    "from tensorflow.keras.preprocessing.image import img_to_array\n",
    "from matplotlib import pyplot\n",
    "from tensorflow.keras import layers\n",
    "from tensorflow.python.keras.utils.np_utils import to_categorical\n",
    "import pandas as pd\n",
    "from sklearn.model_selection import train_test_split\n",
    "\n",
    "import matplotlib.pyplot as plt"
   ]
  },
  {
   "cell_type": "code",
   "execution_count": 5,
   "id": "37a28d9d-1400-46d2-b0e0-79b40fd874f2",
   "metadata": {},
   "outputs": [
    {
     "name": "stdout",
     "output_type": "stream",
     "text": [
      "archive/test/REAL\n",
      "Total images: 10000\n",
      "Total labels: 10000\n",
      "archive/test/FAKE\n",
      "Total images: 20000\n",
      "Total labels: 20000\n"
     ]
    }
   ],
   "source": [
    "test_X, test_Y = getDataSet(1);"
   ]
  },
  {
   "cell_type": "code",
   "execution_count": 2,
   "id": "9ZgDFELIEgwd",
   "metadata": {
    "colab": {
     "base_uri": "https://localhost:8080/",
     "height": 881
    },
    "id": "9ZgDFELIEgwd",
    "outputId": "b665a1ed-d110-4575-c2cc-46fd1db74c75"
   },
   "outputs": [],
   "source": [
    "\n",
    "test_X = np.load(\"testDatasetX.npy\")\n",
    "test_Y = np.load(\"testDatasetY.npy\")\n",
    "\n"
   ]
  },
  {
   "cell_type": "code",
   "execution_count": 3,
   "id": "ed311878-c6ed-49f6-bec4-039bacd790a6",
   "metadata": {},
   "outputs": [],
   "source": [
    "\n",
    "X_Train, X_Test, Y_Train, Y_Test = train_test_split(test_X, test_Y, test_size = 0.2, random_state=5) "
   ]
  },
  {
   "cell_type": "code",
   "execution_count": 7,
   "id": "36e9702b",
   "metadata": {
    "colab": {
     "base_uri": "https://localhost:8080/"
    },
    "id": "36e9702b",
    "outputId": "d9d3e890-689c-4156-ba46-2468b2b052c1"
   },
   "outputs": [
    {
     "name": "stdout",
     "output_type": "stream",
     "text": [
      "Model: \"sequential_2\"\n",
      "_________________________________________________________________\n",
      " Layer (type)                Output Shape              Param #   \n",
      "=================================================================\n",
      " conv2d_5 (Conv2D)           (None, 126, 126, 16)      448       \n",
      "                                                                 \n",
      " conv2d_6 (Conv2D)           (None, 124, 124, 32)      4640      \n",
      "                                                                 \n",
      " conv2d_7 (Conv2D)           (None, 122, 122, 64)      18496     \n",
      "                                                                 \n",
      " conv2d_transpose_4 (Conv2DT  (None, 124, 124, 64)     36928     \n",
      " ranspose)                                                       \n",
      "                                                                 \n",
      " conv2d_transpose_5 (Conv2DT  (None, 126, 126, 32)     18464     \n",
      " ranspose)                                                       \n",
      "                                                                 \n",
      " flatten_2 (Flatten)         (None, 508032)            0         \n",
      "                                                                 \n",
      " dropout_2 (Dropout)         (None, 508032)            0         \n",
      "                                                                 \n",
      " dense_2 (Dense)             (None, 2)                 1016066   \n",
      "                                                                 \n",
      "=================================================================\n",
      "Total params: 1,095,042\n",
      "Trainable params: 1,095,042\n",
      "Non-trainable params: 0\n",
      "_________________________________________________________________\n"
     ]
    }
   ],
   "source": [
    "\n",
    "model = Sequential()\n",
    "\n",
    "model.add(Input(shape=(128, 128, 3)))\n",
    "\n",
    "model.add(Conv2D(filters=16, kernel_size=(3, 3), activation='relu', padding='valid', strides=(1, 1)))\n",
    "model.add(Conv2D(filters=32, kernel_size=(3, 3), activation='relu', padding='valid', strides=(1, 1)))\n",
    "model.add(Conv2D(filters=64, kernel_size=(3, 3), activation='relu', padding='valid', strides=(1, 1)))\n",
    "\n",
    "\n",
    "model.add(Conv2DTranspose(filters=64, kernel_size=(3, 3), activation='relu', padding='valid', strides=(1, 1)))\n",
    "model.add(Conv2DTranspose(filters=32, kernel_size=(3, 3), activation='relu', padding='valid', strides=(1, 1)))\n",
    "\n",
    "\n",
    "model.add(Flatten())\n",
    "model.add(Dropout(0.5))\n",
    "model.add(Dense(2, activation='softmax'))\n",
    "\n",
    "model.compile(optimizer='adam', loss='sparse_categorical_crossentropy', metrics=['accuracy'])\n",
    "model.summary()"
   ]
  },
  {
   "cell_type": "code",
   "execution_count": 8,
   "id": "d4211270",
   "metadata": {
    "colab": {
     "base_uri": "https://localhost:8080/"
    },
    "id": "d4211270",
    "outputId": "a7b7b3a8-e299-4139-cd87-748737744754"
   },
   "outputs": [
    {
     "name": "stdout",
     "output_type": "stream",
     "text": [
      "Epoch 1/10\n",
      "50/50 [==============================] - 237s 4s/step - loss: 0.6446 - accuracy: 0.6714 - val_loss: 0.4995 - val_accuracy: 0.7588\n",
      "Epoch 2/10\n",
      "50/50 [==============================] - 220s 4s/step - loss: 0.4893 - accuracy: 0.7650 - val_loss: 0.4667 - val_accuracy: 0.7919\n",
      "Epoch 3/10\n",
      "50/50 [==============================] - 218s 4s/step - loss: 0.4541 - accuracy: 0.7877 - val_loss: 0.4657 - val_accuracy: 0.7856\n",
      "Epoch 4/10\n",
      "50/50 [==============================] - 216s 4s/step - loss: 0.4386 - accuracy: 0.7954 - val_loss: 0.4466 - val_accuracy: 0.7962\n",
      "Epoch 5/10\n",
      "50/50 [==============================] - 216s 4s/step - loss: 0.4040 - accuracy: 0.8138 - val_loss: 0.4524 - val_accuracy: 0.7875\n",
      "Epoch 6/10\n",
      "50/50 [==============================] - 218s 4s/step - loss: 0.3846 - accuracy: 0.8270 - val_loss: 0.4673 - val_accuracy: 0.7897\n",
      "Epoch 7/10\n",
      "50/50 [==============================] - 211s 4s/step - loss: 0.3349 - accuracy: 0.8552 - val_loss: 0.4761 - val_accuracy: 0.7916\n",
      "Epoch 8/10\n",
      "50/50 [==============================] - 211s 4s/step - loss: 0.3082 - accuracy: 0.8694 - val_loss: 0.5102 - val_accuracy: 0.7731\n",
      "Epoch 9/10\n",
      "50/50 [==============================] - 208s 4s/step - loss: 0.2611 - accuracy: 0.8910 - val_loss: 0.6292 - val_accuracy: 0.7509\n",
      "Epoch 10/10\n",
      "50/50 [==============================] - 207s 4s/step - loss: 0.2200 - accuracy: 0.9072 - val_loss: 0.6128 - val_accuracy: 0.7697\n"
     ]
    }
   ],
   "source": [
    "\n",
    "r = model.fit(X_Train, Y_Train, epochs=10, batch_size=256,validation_split=0.2)"
   ]
  },
  {
   "cell_type": "code",
   "execution_count": 9,
   "id": "f155925e-a4eb-4556-82c4-0363dad9419e",
   "metadata": {},
   "outputs": [],
   "source": [
    "model.save('my_model.keras')"
   ]
  },
  {
   "cell_type": "code",
   "execution_count": 10,
   "id": "4be3fa0b",
   "metadata": {
    "id": "4be3fa0b",
    "outputId": "7334336c-e0dc-4ca9-fe0a-f905fee1b307"
   },
   "outputs": [
    {
     "data": {
      "text/plain": [
       "<matplotlib.legend.Legend at 0x16d07bca350>"
      ]
     },
     "execution_count": 10,
     "metadata": {},
     "output_type": "execute_result"
    },
    {
     "data": {
      "image/png": "[encoded data removed]",
      "text/plain": [
       "<Figure size 640x480 with 1 Axes>"
      ]
     },
     "metadata": {},
     "output_type": "display_data"
    }
   ],
   "source": [
    "# Plot accuracy per iteration\n",
    "plt.plot(r.history['accuracy'], label='acc', color='red')\n",
    "plt.plot(r.history['val_accuracy'], label='val_acc', color='green')\n",
    "plt.legend()\n",
    "#pd.DataFrame(history.history).plot()"
   ]
  },
  {
   "cell_type": "code",
   "execution_count": 11,
   "id": "f2d1137a-7f4b-49f9-a34b-2dc9a2d4c53f",
   "metadata": {},
   "outputs": [
    {
     "name": "stdout",
     "output_type": "stream",
     "text": [
      "Model: \"sequential_2\"\n",
      "_________________________________________________________________\n",
      " Layer (type)                Output Shape              Param #   \n",
      "=================================================================\n",
      " conv2d_5 (Conv2D)           (None, 126, 126, 16)      448       \n",
      "                                                                 \n",
      " conv2d_6 (Conv2D)           (None, 124, 124, 32)      4640      \n",
      "                                                                 \n",
      " conv2d_7 (Conv2D)           (None, 122, 122, 64)      18496     \n",
      "                                                                 \n",
      " conv2d_transpose_4 (Conv2DT  (None, 124, 124, 64)     36928     \n",
      " ranspose)                                                       \n",
      "                                                                 \n",
      " conv2d_transpose_5 (Conv2DT  (None, 126, 126, 32)     18464     \n",
      " ranspose)                                                       \n",
      "                                                                 \n",
      " flatten_2 (Flatten)         (None, 508032)            0         \n",
      "                                                                 \n",
      " dropout_2 (Dropout)         (None, 508032)            0         \n",
      "                                                                 \n",
      " dense_2 (Dense)             (None, 2)                 1016066   \n",
      "                                                                 \n",
      "=================================================================\n",
      "Total params: 1,095,042\n",
      "Trainable params: 1,095,042\n",
      "Non-trainable params: 0\n",
      "_________________________________________________________________\n"
     ]
    }
   ],
   "source": [
    "new_model = tf.keras.models.load_model('my_model.keras')\n",
    "\n",
    "# Show the model architecture\n",
    "new_model.summary()"
   ]
  },
  {
   "cell_type": "code",
   "execution_count": null,
   "id": "a88032be",
   "metadata": {},
   "outputs": [],
   "source": [
    "test_case = convert_to_ela_image(\"insert image here.\")\n",
    "test_case = np.reshape(test_case, (1, 128, 128, 3))\n",
    "prediction = new_model.predict(test_case)\n",
    "\n",
    "print(\"Prediction:\", prediction)"
   ]
  },
  {
   "cell_type": "code",
   "execution_count": null,
   "id": "13586e92-abd8-4797-b052-cb0eb003dcd7",
   "metadata": {},
   "outputs": [],
   "source": []
  }
 ],
 "metadata": {
  "colab": {
   "provenance": []
  },
  "kernelspec": {
   "display_name": "Python 3 (ipykernel)",
   "language": "python",
   "name": "python3"
  },
  "language_info": {
   "codemirror_mode": {
    "name": "ipython",
    "version": 3
   },
   "file_extension": ".py",
   "mimetype": "text/x-python",
   "name": "python",
   "nbconvert_exporter": "python",
   "pygments_lexer": "ipython3",
   "version": "3.10.13"
  }
 },
 "nbformat": 4,
 "nbformat_minor": 5
}
