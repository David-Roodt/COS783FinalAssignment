{
 "cells": [
  {
   "cell_type": "code",
   "execution_count": 1,
   "id": "3d17e654-6ac8-4d60-a7c7-239a5db810a2",
   "metadata": {},
   "outputs": [],
   "source": [
    "#converts input image to ela applied image\n",
    "from PIL import Image, ImageChops, ImageEnhance\n",
    "\n",
    "\n",
    "def convert_to_ela_image(filename,quality):\n",
    "\n",
    "    Original_Image = Image.open(filename).convert('RGB')\n",
    "\n",
    "    Compressed_Image_filename = 'resaved_image.jpg'\n",
    "    Original_Image.save(Compressed_Image_filename,'JPEG',quality=quality)\n",
    "    Compressed_Image = Image.open(Compressed_Image_filename)\n",
    "\n",
    "    ELA_Image = ImageChops.difference(Original_Image,Compressed_Image)\n",
    "    \n",
    "    #scaling factors are calculated from pixel extremas\n",
    "    extrema = ELA_Image.getextrema()\n",
    "    max_difference = max([pix[1] for pix in extrema])\n",
    "    if max_difference ==0:\n",
    "        max_difference = 1\n",
    "    scale = 350.0 / max_difference\n",
    "    \n",
    "    ELA_Image = ImageEnhance.Brightness(ELA_Image).enhance(scale)\n",
    "\n",
    "    ELA_Image.save(\"ela_image.png\")\n",
    "\n",
    "    return ELA_Image"
   ]
  },
  {
   "cell_type": "code",
   "execution_count": 2,
   "id": "f2cd1f68-873e-4af8-b201-f76e34147c24",
   "metadata": {},
   "outputs": [],
   "source": [
    "from os import listdir\n",
    "from os.path import isfile\n",
    "\n",
    "import numpy as np\n",
    "\n",
    "def PreProcess(image_path):\n",
    "    return np.array(convert_to_ela_image(image_path, 90).resize((32,32))).flatten() / 255.0\n",
    "\n",
    "def getDataSet(DataSetType):\n",
    "    X = [] # Images\n",
    "    Y = [] # 0 = fake, 1 = real\n",
    "\n",
    "    if(DataSetType == 0):\n",
    "        TestOrTrain = 'archive/train'\n",
    "    else:\n",
    "        TestOrTrain = 'archive/test'\n",
    "\n",
    "    path = TestOrTrain+'/REAL'\n",
    "    print(path);\n",
    "\n",
    "    allFiles = []\n",
    "    for f in listdir(path):\n",
    "        if(isfile(path + '/'+ f)):\n",
    "            allFiles.append(path + '/'+ f);\n",
    "    \n",
    "    for file in allFiles:\n",
    "        if file.endswith('jpg') or file.endswith('png'):\n",
    "            X.append(PreProcess(file))        \n",
    "            Y.append(1)     # label for authentic images \n",
    "            \n",
    "    print(f'Total images: {len(X)}\\nTotal labels: {len(Y)}')\n",
    "\n",
    "\n",
    "    path = TestOrTrain+'/FAKE'\n",
    "    print(path);\n",
    "\n",
    "    allFiles = []\n",
    "    for f in listdir(path):\n",
    "        if(isfile(path + '/'+ f)):\n",
    "            allFiles.append(path + '/'+ f);\n",
    "    \n",
    "    for file in allFiles:\n",
    "        if file.endswith('jpg') or file.endswith('png'):\n",
    "            X.append(PreProcess(file))        \n",
    "            Y.append(0)     # label for authentic images \n",
    "            \n",
    "    print(f'Total images: {len(X)}\\nTotal labels: {len(Y)}')\n",
    "\n",
    "    X = np.array(X)\n",
    "    Y = np.array(Y)\n",
    "    X = X.reshape(-1, 32, 32, 3)\n",
    "\n",
    "    return X, Y"
   ]
  },
  {
   "cell_type": "code",
   "execution_count": 3,
   "id": "bcd8911f",
   "metadata": {
    "colab": {
     "base_uri": "https://localhost:8080/"
    },
    "id": "bcd8911f",
    "outputId": "f0b3c621-1bd9-42f2-f88b-4f0158e0cbd1"
   },
   "outputs": [
    {
     "name": "stdout",
     "output_type": "stream",
     "text": [
      "2.10.0\n"
     ]
    }
   ],
   "source": [
    "\n",
    "import tensorflow as tf\n",
    "\n",
    "# Display the version\n",
    "print(tf.__version__)\n",
    "\n",
    "# other imports\n",
    "import numpy as np\n",
    "import matplotlib.pyplot as plt\n",
    "from tensorflow.keras.layers import Input,Activation,Conv2D, Conv2DTranspose, Dense, Flatten, Dropout\n",
    "from tensorflow.keras.layers import GlobalMaxPooling2D, MaxPooling2D, GlobalAveragePooling2D\n",
    "from tensorflow.keras.layers import BatchNormalization\n",
    "from tensorflow.keras.models import Model, Sequential\n",
    "from tensorflow.keras.preprocessing.image import load_img\n",
    "from tensorflow.keras.preprocessing.image import img_to_array\n",
    "from matplotlib import pyplot\n",
    "from tensorflow.keras import layers\n",
    "from tensorflow.python.keras.utils.np_utils import to_categorical\n",
    "import pandas as pd\n",
    "from sklearn.model_selection import train_test_split\n",
    "\n",
    "import matplotlib.pyplot as plt"
   ]
  },
  {
   "cell_type": "code",
   "execution_count": 20,
   "id": "37a28d9d-1400-46d2-b0e0-79b40fd874f2",
   "metadata": {},
   "outputs": [
    {
     "name": "stdout",
     "output_type": "stream",
     "text": [
      "archive/test/REAL\n",
      "Total images: 10000\n",
      "Total labels: 10000\n",
      "archive/test/FAKE\n",
      "Total images: 20000\n",
      "Total labels: 20000\n"
     ]
    }
   ],
   "source": [
    "test_X, test_Y = getDataSet(1);"
   ]
  },
  {
   "cell_type": "code",
   "execution_count": 6,
   "id": "bd652b2b-99b5-45e2-898a-4d1b41905380",
   "metadata": {},
   "outputs": [
    {
     "data": {
      "image/png": "[encoded data removed]",
      "text/plain": [
       "<Figure size 1000x500 with 2 Axes>"
      ]
     },
     "metadata": {},
     "output_type": "display_data"
    }
   ],
   "source": [
    "fig, axes = plt.subplots(1, 2, figsize=(10, 5))\n",
    "axes[0].imshow(test_X[0])\n",
    "axes[0].set_title('Original')\n",
    "axes[0].axis('off')\n",
    "\n",
    "# Display the ELA image\n",
    "axes[1].imshow(test_X[1])\n",
    "axes[1].set_title('ELA')\n",
    "axes[1].axis('off')\n",
    "\n",
    "plt.tight_layout()\n",
    "plt.show()\n"
   ]
  },
  {
   "cell_type": "code",
   "execution_count": 8,
   "id": "9ZgDFELIEgwd",
   "metadata": {
    "colab": {
     "base_uri": "https://localhost:8080/",
     "height": 881
    },
    "id": "9ZgDFELIEgwd",
    "outputId": "b665a1ed-d110-4575-c2cc-46fd1db74c75"
   },
   "outputs": [],
   "source": [
    "np.save( \"testDatasetX.npy\",test_X)\n",
    "np.save(\"testDatasetY.npy\",test_Y)\n",
    "\n"
   ]
  },
  {
   "cell_type": "code",
   "execution_count": 10,
   "id": "36e9702b",
   "metadata": {
    "colab": {
     "base_uri": "https://localhost:8080/"
    },
    "id": "36e9702b",
    "outputId": "d9d3e890-689c-4156-ba46-2468b2b052c1"
   },
   "outputs": [
    {
     "name": "stdout",
     "output_type": "stream",
     "text": [
      "Model: \"sequential\"\n",
      "_________________________________________________________________\n",
      " Layer (type)                Output Shape              Param #   \n",
      "=================================================================\n",
      " conv2d (Conv2D)             (None, 30, 30, 16)        448       \n",
      "                                                                 \n",
      " conv2d_1 (Conv2D)           (None, 28, 28, 32)        4640      \n",
      "                                                                 \n",
      " conv2d_2 (Conv2D)           (None, 26, 26, 64)        18496     \n",
      "                                                                 \n",
      " conv2d_transpose (Conv2DTra  (None, 28, 28, 64)       36928     \n",
      " nspose)                                                         \n",
      "                                                                 \n",
      " conv2d_transpose_1 (Conv2DT  (None, 30, 30, 32)       18464     \n",
      " ranspose)                                                       \n",
      "                                                                 \n",
      " flatten (Flatten)           (None, 28800)             0         \n",
      "                                                                 \n",
      " dropout (Dropout)           (None, 28800)             0         \n",
      "                                                                 \n",
      " dense (Dense)               (None, 2)                 57602     \n",
      "                                                                 \n",
      "=================================================================\n",
      "Total params: 136,578\n",
      "Trainable params: 136,578\n",
      "Non-trainable params: 0\n",
      "_________________________________________________________________\n"
     ]
    }
   ],
   "source": [
    "\n",
    "model = Sequential()\n",
    "\n",
    "model.add(Input(shape=(32, 32, 3)))\n",
    "\n",
    "model.add(Conv2D(filters=16, kernel_size=(3, 3), activation='relu', padding='valid', strides=(1, 1)))\n",
    "model.add(Conv2D(filters=32, kernel_size=(3, 3), activation='relu', padding='valid', strides=(1, 1)))\n",
    "model.add(Conv2D(filters=64, kernel_size=(3, 3), activation='relu', padding='valid', strides=(1, 1)))\n",
    "\n",
    "\n",
    "model.add(Conv2DTranspose(filters=64, kernel_size=(3, 3), activation='relu', padding='valid', strides=(1, 1)))\n",
    "model.add(Conv2DTranspose(filters=32, kernel_size=(3, 3), activation='relu', padding='valid', strides=(1, 1)))\n",
    "\n",
    "\n",
    "model.add(Flatten())\n",
    "model.add(Dropout(0.5))\n",
    "model.add(Dense(2, activation='softmax'))\n",
    "\n",
    "model.compile(optimizer='adam', loss='sparse_categorical_crossentropy', metrics=['accuracy'])\n",
    "model.summary()"
   ]
  },
  {
   "cell_type": "code",
   "execution_count": 11,
   "id": "d4211270",
   "metadata": {
    "colab": {
     "base_uri": "https://localhost:8080/"
    },
    "id": "d4211270",
    "outputId": "a7b7b3a8-e299-4139-cd87-748737744754"
   },
   "outputs": [
    {
     "name": "stdout",
     "output_type": "stream",
     "text": [
      "Epoch 1/10\n",
      "50/50 [==============================] - 9s 180ms/step - loss: 0.6184 - accuracy: 0.6611 - val_loss: 0.5490 - val_accuracy: 0.7306\n",
      "Epoch 2/10\n",
      "50/50 [==============================] - 8s 165ms/step - loss: 0.5229 - accuracy: 0.7435 - val_loss: 0.5351 - val_accuracy: 0.7316\n",
      "Epoch 3/10\n",
      "50/50 [==============================] - 9s 177ms/step - loss: 0.4944 - accuracy: 0.7595 - val_loss: 0.4768 - val_accuracy: 0.7753\n",
      "Epoch 4/10\n",
      "50/50 [==============================] - 9s 174ms/step - loss: 0.4721 - accuracy: 0.7767 - val_loss: 0.4700 - val_accuracy: 0.7788\n",
      "Epoch 5/10\n",
      "50/50 [==============================] - 9s 176ms/step - loss: 0.4634 - accuracy: 0.7832 - val_loss: 0.4710 - val_accuracy: 0.7856\n",
      "Epoch 6/10\n",
      "50/50 [==============================] - 9s 174ms/step - loss: 0.4455 - accuracy: 0.7937 - val_loss: 0.4454 - val_accuracy: 0.7972\n",
      "Epoch 7/10\n",
      "50/50 [==============================] - 9s 171ms/step - loss: 0.4237 - accuracy: 0.8059 - val_loss: 0.4335 - val_accuracy: 0.8009\n",
      "Epoch 8/10\n",
      "50/50 [==============================] - 9s 172ms/step - loss: 0.4172 - accuracy: 0.8089 - val_loss: 0.4376 - val_accuracy: 0.7972\n",
      "Epoch 9/10\n",
      "50/50 [==============================] - 9s 175ms/step - loss: 0.4131 - accuracy: 0.8125 - val_loss: 0.4509 - val_accuracy: 0.7894\n",
      "Epoch 10/10\n",
      "50/50 [==============================] - 9s 177ms/step - loss: 0.3896 - accuracy: 0.8265 - val_loss: 0.4326 - val_accuracy: 0.7950\n"
     ]
    }
   ],
   "source": [
    "\n",
    "r = model.fit(train_X, train_Y , epochs=10, batch_size=256,validation_data=(test_X, test_Y))"
   ]
  },
  {
   "cell_type": "code",
   "execution_count": 12,
   "id": "f155925e-a4eb-4556-82c4-0363dad9419e",
   "metadata": {},
   "outputs": [],
   "source": [
    "model.save('my_model.keras')"
   ]
  },
  {
   "cell_type": "code",
   "execution_count": 13,
   "id": "4be3fa0b",
   "metadata": {
    "id": "4be3fa0b",
    "outputId": "7334336c-e0dc-4ca9-fe0a-f905fee1b307"
   },
   "outputs": [
    {
     "data": {
      "text/plain": [
       "<matplotlib.legend.Legend at 0x2131c220f40>"
      ]
     },
     "execution_count": 13,
     "metadata": {},
     "output_type": "execute_result"
    },
    {
     "data": {
      "image/png": "[encoded data removed]",
      "text/plain": [
       "<Figure size 640x480 with 1 Axes>"
      ]
     },
     "metadata": {},
     "output_type": "display_data"
    }
   ],
   "source": [
    "# Plot accuracy per iteration\n",
    "plt.plot(r.history['accuracy'], label='acc', color='red')\n",
    "plt.plot(r.history['val_accuracy'], label='val_acc', color='green')\n",
    "plt.legend()\n",
    "#pd.DataFrame(history.history).plot()"
   ]
  },
  {
   "cell_type": "code",
   "execution_count": 14,
   "id": "f2d1137a-7f4b-49f9-a34b-2dc9a2d4c53f",
   "metadata": {},
   "outputs": [
    {
     "name": "stdout",
     "output_type": "stream",
     "text": [
      "Model: \"sequential\"\n",
      "_________________________________________________________________\n",
      " Layer (type)                Output Shape              Param #   \n",
      "=================================================================\n",
      " conv2d (Conv2D)             (None, 30, 30, 16)        448       \n",
      "                                                                 \n",
      " conv2d_1 (Conv2D)           (None, 28, 28, 32)        4640      \n",
      "                                                                 \n",
      " conv2d_2 (Conv2D)           (None, 26, 26, 64)        18496     \n",
      "                                                                 \n",
      " conv2d_transpose (Conv2DTra  (None, 28, 28, 64)       36928     \n",
      " nspose)                                                         \n",
      "                                                                 \n",
      " conv2d_transpose_1 (Conv2DT  (None, 30, 30, 32)       18464     \n",
      " ranspose)                                                       \n",
      "                                                                 \n",
      " flatten (Flatten)           (None, 28800)             0         \n",
      "                                                                 \n",
      " dropout (Dropout)           (None, 28800)             0         \n",
      "                                                                 \n",
      " dense (Dense)               (None, 2)                 57602     \n",
      "                                                                 \n",
      "=================================================================\n",
      "Total params: 136,578\n",
      "Trainable params: 136,578\n",
      "Non-trainable params: 0\n",
      "_________________________________________________________________\n"
     ]
    }
   ],
   "source": [
    "new_model = tf.keras.models.load_model('my_model.keras')\n",
    "\n",
    "# Show the model architecture\n",
    "new_model.summary()"
   ]
  },
  {
   "cell_type": "code",
   "execution_count": 21,
   "id": "13586e92-abd8-4797-b052-cb0eb003dcd7",
   "metadata": {},
   "outputs": [
    {
     "name": "stdin",
     "output_type": "stream",
     "text": [
      "Name of image to run?\n",
      " Cat.jpg\n"
     ]
    },
    {
     "name": "stdout",
     "output_type": "stream",
     "text": [
      "1/1 [==============================] - 0s 17ms/step\n"
     ]
    },
    {
     "data": {
      "image/png": "[encoded data removed]",
      "text/plain": [
       "<Figure size 1000x500 with 2 Axes>"
      ]
     },
     "metadata": {},
     "output_type": "display_data"
    },
    {
     "name": "stdout",
     "output_type": "stream",
     "text": [
      "Prediction: [[0. 1.]]\n"
     ]
    }
   ],
   "source": [
    "import matplotlib.image as mpimg\n",
    "\n",
    "imageName = input('Name of image to run?\\n')\n",
    "\n",
    "test_case = convert_to_ela_image(imageName,90)\n",
    "test_case.save(\"ELA.jpg\",'JPEG')\n",
    "test_case = np.reshape(test_case, (1, 32, 32, 3))\n",
    "prediction = new_model.predict(test_case)\n",
    "\n",
    "\n",
    "original_image = mpimg.imread(imageName)\n",
    "ela_image = mpimg.imread(\"ELA.jpg\")\n",
    "\n",
    "fig, axes = plt.subplots(1, 2, figsize=(10, 5))\n",
    "axes[0].imshow(original_image)\n",
    "axes[0].set_title('Original')\n",
    "axes[0].axis('off')\n",
    "# Display the ELA image\n",
    "axes[1].imshow(ela_image)\n",
    "axes[1].set_title('ELA')\n",
    "axes[1].axis('off')\n",
    "\n",
    "plt.tight_layout()\n",
    "plt.show()\n",
    "\n",
    "print(\"Prediction:\", prediction)"
   ]
  },
  {
   "cell_type": "code",
   "execution_count": null,
   "id": "1bb752b1-ce9a-4110-b972-43391f79b05d",
   "metadata": {},
   "outputs": [],
   "source": []
  }
 ],
 "metadata": {
  "colab": {
   "provenance": []
  },
  "kernelspec": {
   "display_name": "Python 3 (ipykernel)",
   "language": "python",
   "name": "python3"
  },
  "language_info": {
   "codemirror_mode": {
    "name": "ipython",
    "version": 3
   },
   "file_extension": ".py",
   "mimetype": "text/x-python",
   "name": "python",
   "nbconvert_exporter": "python",
   "pygments_lexer": "ipython3",
   "version": "3.10.13"
  }
 },
 "nbformat": 4,
 "nbformat_minor": 5
}
