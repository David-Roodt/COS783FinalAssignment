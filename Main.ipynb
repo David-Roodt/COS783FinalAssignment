{
 "cells": [
  {
   "cell_type": "code",
   "execution_count": 49,
   "id": "0efee29f",
   "metadata": {},
   "outputs": [],
   "source": [
    "#converts input image to ela applied image\n",
    "from PIL import Image, ImageChops, ImageEnhance\n",
    "\n",
    "\n",
    "def convert_to_ela_image(filename,quality):\n",
    "\n",
    "    Original_Image = Image.open(filename).convert('RGB')\n",
    "\n",
    "    Compressed_Image_filename = 'resaved_image.jpg'\n",
    "    Original_Image.save(Compressed_Image_filename,'JPEG',quality=quality)\n",
    "    Compressed_Image = Image.open(Compressed_Image_filename)\n",
    "\n",
    "    ELA_Image = ImageChops.difference(Original_Image,Compressed_Image)\n",
    "    \n",
    "    #scaling factors are calculated from pixel extremas\n",
    "    extrema = ELA_Image.getextrema()\n",
    "    max_difference = max([pix[1] for pix in extrema])\n",
    "    if max_difference ==0:\n",
    "        max_difference = 1\n",
    "    scale = 350.0 / max_difference\n",
    "    \n",
    "    ELA_Image = ImageEnhance.Brightness(ELA_Image).enhance(scale)\n",
    "\n",
    "    ELA_Image.save(\"ela_image.png\")\n",
    "    return ELA_Image"
   ]
  },
  {
   "cell_type": "code",
   "execution_count": 54,
   "id": "9e4f4857",
   "metadata": {},
   "outputs": [],
   "source": [
    "from os import listdir\n",
    "from os.path import isfile\n",
    "\n",
    "import numpy as np\n",
    "\n",
    "def PreProcess(image_path):\n",
    "    return np.array(convert_to_ela_image(image_path, 90).resize((128, 128))).flatten() / 255.0\n",
    "\n",
    "def getDataSet(DataSetType):\n",
    "    X = [] # Images\n",
    "    Y = [] # false = fake, true = real\n",
    "\n",
    "    if(DataSetType == 0):\n",
    "        TestOrTrain = 'train'\n",
    "    else:\n",
    "        TestOrTrain = 'test'\n",
    "\n",
    "    path = TestOrTrain+'/REAL'\n",
    "    print(path);\n",
    "\n",
    "    allFiles = []\n",
    "    for f in listdir(path):\n",
    "        if(isfile(path + '/'+ f)):\n",
    "            allFiles.append(path + '/'+ f);\n",
    "    \n",
    "    for file in allFiles:\n",
    "        if file.endswith('jpg') or file.endswith('png'):\n",
    "            X.append(PreProcess(file))        \n",
    "            Y.append(True)     # label for authentic images \n",
    "            \n",
    "    print(f'Total images: {len(X)}\\nTotal labels: {len(Y)}')\n",
    "\n",
    "\n",
    "    path = TestOrTrain+'/FAKE'\n",
    "    print(path);\n",
    "\n",
    "    allFiles = []\n",
    "    for f in listdir(path):\n",
    "        if(isfile(path + '/'+ f)):\n",
    "            allFiles.append(path + '/'+ f);\n",
    "    \n",
    "    for file in allFiles:\n",
    "        if file.endswith('jpg') or file.endswith('png'):\n",
    "            X.append(PreProcess(file))        \n",
    "            Y.append(False)     # label for authentic images \n",
    "            \n",
    "    print(f'Total images: {len(X)}\\nTotal labels: {len(Y)}')\n",
    "\n",
    "    X = np.array(X)\n",
    "    Y = Y.astype(np.bool_)\n",
    "    Y = np.packbits(Y, axis=-1)\n",
    "    X = X.reshape(-1, 128, 128, 3)\n",
    "\n",
    "    return X, Y"
   ]
  },
  {
   "cell_type": "code",
   "execution_count": null,
   "id": "6bcb7e83",
   "metadata": {},
   "outputs": [
    {
     "name": "stdout",
     "output_type": "stream",
     "text": [
      "test/REAL\n",
      "Total images: 10000\n",
      "Total labels: 10000\n",
      "test/FAKE\n"
     ]
    }
   ],
   "source": [
    "test_X, test_Y = getDataSet(1);\n"
   ]
  },
  {
   "cell_type": "code",
   "execution_count": null,
   "id": "6e2d5cc6",
   "metadata": {},
   "outputs": [],
   "source": []
  }
 ],
 "metadata": {
  "kernelspec": {
   "display_name": "Python 3",
   "language": "python",
   "name": "python3"
  },
  "language_info": {
   "codemirror_mode": {
    "name": "ipython",
    "version": 3
   },
   "file_extension": ".py",
   "mimetype": "text/x-python",
   "name": "python",
   "nbconvert_exporter": "python",
   "pygments_lexer": "ipython3",
   "version": "3.8.8"
  }
 },
 "nbformat": 4,
 "nbformat_minor": 5
}
